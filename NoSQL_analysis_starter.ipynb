{
 "cells": [
  {
   "cell_type": "markdown",
   "id": "9a57c4c6",
   "metadata": {},
   "source": [
    "# Eat Safe, Love"
   ]
  },
  {
   "cell_type": "markdown",
   "id": "064ef857",
   "metadata": {},
   "source": [
    "## Notebook Set Up"
   ]
  },
  {
   "cell_type": "code",
   "execution_count": 8,
   "id": "3ecdd008",
   "metadata": {},
   "outputs": [],
   "source": [
    "# Import dependencies\n",
    "from pymongo import MongoClient\n",
    "from pprint import pprint\n",
    "\n",
    "import pandas as pd"
   ]
  },
  {
   "cell_type": "code",
   "execution_count": 9,
   "id": "59390c4a",
   "metadata": {},
   "outputs": [],
   "source": [
    "# Create an instance of MongoClient\n",
    "mongo = MongoClient(port=27017)"
   ]
  },
  {
   "cell_type": "code",
   "execution_count": 10,
   "id": "71e373c1",
   "metadata": {},
   "outputs": [],
   "source": [
    "# assign the uk_food database to a variable name\n",
    "db = mongo['uk_food']"
   ]
  },
  {
   "cell_type": "code",
   "execution_count": 11,
   "id": "18ab463c",
   "metadata": {},
   "outputs": [
    {
     "ename": "ServerSelectionTimeoutError",
     "evalue": "localhost:27017: [WinError 10061] No connection could be made because the target machine actively refused it, Timeout: 30s, Topology Description: <TopologyDescription id: 64ee9a53c3435e18c5fcebde, topology_type: Unknown, servers: [<ServerDescription ('localhost', 27017) server_type: Unknown, rtt: None, error=AutoReconnect('localhost:27017: [WinError 10061] No connection could be made because the target machine actively refused it')>]>",
     "output_type": "error",
     "traceback": [
      "\u001b[1;31m---------------------------------------------------------------------------\u001b[0m",
      "\u001b[1;31mServerSelectionTimeoutError\u001b[0m               Traceback (most recent call last)",
      "Cell \u001b[1;32mIn[11], line 2\u001b[0m\n\u001b[0;32m      1\u001b[0m \u001b[39m# review the collections in our database\u001b[39;00m\n\u001b[1;32m----> 2\u001b[0m \u001b[39mprint\u001b[39m(db\u001b[39m.\u001b[39;49mlist_collection_names())\n",
      "File \u001b[1;32mc:\\Users\\Tye Smith\\AppData\\Local\\Programs\\Python\\Python311\\Lib\\site-packages\\pymongo\\database.py:1149\u001b[0m, in \u001b[0;36mDatabase.list_collection_names\u001b[1;34m(self, session, filter, comment, **kwargs)\u001b[0m\n\u001b[0;32m   1146\u001b[0m     \u001b[39mif\u001b[39;00m \u001b[39mnot\u001b[39;00m \u001b[39mfilter\u001b[39m \u001b[39mor\u001b[39;00m (\u001b[39mlen\u001b[39m(\u001b[39mfilter\u001b[39m) \u001b[39m==\u001b[39m \u001b[39m1\u001b[39m \u001b[39mand\u001b[39;00m \u001b[39m\"\u001b[39m\u001b[39mname\u001b[39m\u001b[39m\"\u001b[39m \u001b[39min\u001b[39;00m \u001b[39mfilter\u001b[39m):\n\u001b[0;32m   1147\u001b[0m         kwargs[\u001b[39m\"\u001b[39m\u001b[39mnameOnly\u001b[39m\u001b[39m\"\u001b[39m] \u001b[39m=\u001b[39m \u001b[39mTrue\u001b[39;00m\n\u001b[1;32m-> 1149\u001b[0m \u001b[39mreturn\u001b[39;00m [result[\u001b[39m\"\u001b[39m\u001b[39mname\u001b[39m\u001b[39m\"\u001b[39m] \u001b[39mfor\u001b[39;00m result \u001b[39min\u001b[39;00m \u001b[39mself\u001b[39;49m\u001b[39m.\u001b[39;49mlist_collections(session\u001b[39m=\u001b[39;49msession, \u001b[39m*\u001b[39;49m\u001b[39m*\u001b[39;49mkwargs)]\n",
      "File \u001b[1;32mc:\\Users\\Tye Smith\\AppData\\Local\\Programs\\Python\\Python311\\Lib\\site-packages\\pymongo\\database.py:1101\u001b[0m, in \u001b[0;36mDatabase.list_collections\u001b[1;34m(self, session, filter, comment, **kwargs)\u001b[0m\n\u001b[0;32m   1093\u001b[0m \u001b[39mdef\u001b[39;00m \u001b[39m_cmd\u001b[39m(\n\u001b[0;32m   1094\u001b[0m     session: Optional[ClientSession],\n\u001b[0;32m   1095\u001b[0m     server: Server,\n\u001b[0;32m   1096\u001b[0m     conn: Connection,\n\u001b[0;32m   1097\u001b[0m     read_preference: _ServerMode,\n\u001b[0;32m   1098\u001b[0m ) \u001b[39m-\u001b[39m\u001b[39m>\u001b[39m CommandCursor[MutableMapping[\u001b[39mstr\u001b[39m, Any]]:\n\u001b[0;32m   1099\u001b[0m     \u001b[39mreturn\u001b[39;00m \u001b[39mself\u001b[39m\u001b[39m.\u001b[39m_list_collections(conn, session, read_preference\u001b[39m=\u001b[39mread_preference, \u001b[39m*\u001b[39m\u001b[39m*\u001b[39mkwargs)\n\u001b[1;32m-> 1101\u001b[0m \u001b[39mreturn\u001b[39;00m \u001b[39mself\u001b[39;49m\u001b[39m.\u001b[39;49m__client\u001b[39m.\u001b[39;49m_retryable_read(_cmd, read_pref, session)\n",
      "File \u001b[1;32mc:\\Users\\Tye Smith\\AppData\\Local\\Programs\\Python\\Python311\\Lib\\site-packages\\pymongo\\_csot.py:108\u001b[0m, in \u001b[0;36mapply.<locals>.csot_wrapper\u001b[1;34m(self, *args, **kwargs)\u001b[0m\n\u001b[0;32m    106\u001b[0m         \u001b[39mwith\u001b[39;00m _TimeoutContext(timeout):\n\u001b[0;32m    107\u001b[0m             \u001b[39mreturn\u001b[39;00m func(\u001b[39mself\u001b[39m, \u001b[39m*\u001b[39margs, \u001b[39m*\u001b[39m\u001b[39m*\u001b[39mkwargs)\n\u001b[1;32m--> 108\u001b[0m \u001b[39mreturn\u001b[39;00m func(\u001b[39mself\u001b[39;49m, \u001b[39m*\u001b[39;49margs, \u001b[39m*\u001b[39;49m\u001b[39m*\u001b[39;49mkwargs)\n",
      "File \u001b[1;32mc:\\Users\\Tye Smith\\AppData\\Local\\Programs\\Python\\Python311\\Lib\\site-packages\\pymongo\\mongo_client.py:1525\u001b[0m, in \u001b[0;36mMongoClient._retryable_read\u001b[1;34m(self, func, read_pref, session, address, retryable)\u001b[0m\n\u001b[0;32m   1523\u001b[0m         \u001b[39mraise\u001b[39;00m last_error\n\u001b[0;32m   1524\u001b[0m \u001b[39mtry\u001b[39;00m:\n\u001b[1;32m-> 1525\u001b[0m     server \u001b[39m=\u001b[39m \u001b[39mself\u001b[39;49m\u001b[39m.\u001b[39;49m_select_server(read_pref, session, address\u001b[39m=\u001b[39;49maddress)\n\u001b[0;32m   1526\u001b[0m     \u001b[39mwith\u001b[39;00m \u001b[39mself\u001b[39m\u001b[39m.\u001b[39m_conn_from_server(read_pref, server, session) \u001b[39mas\u001b[39;00m (\n\u001b[0;32m   1527\u001b[0m         conn,\n\u001b[0;32m   1528\u001b[0m         read_pref,\n\u001b[0;32m   1529\u001b[0m     ):\n\u001b[0;32m   1530\u001b[0m         \u001b[39mif\u001b[39;00m retrying \u001b[39mand\u001b[39;00m \u001b[39mnot\u001b[39;00m retryable:\n\u001b[0;32m   1531\u001b[0m             \u001b[39m# A retry is not possible because this server does\u001b[39;00m\n\u001b[0;32m   1532\u001b[0m             \u001b[39m# not support retryable reads, raise the last error.\u001b[39;00m\n",
      "File \u001b[1;32mc:\\Users\\Tye Smith\\AppData\\Local\\Programs\\Python\\Python311\\Lib\\site-packages\\pymongo\\mongo_client.py:1297\u001b[0m, in \u001b[0;36mMongoClient._select_server\u001b[1;34m(self, server_selector, session, address)\u001b[0m\n\u001b[0;32m   1295\u001b[0m             \u001b[39mraise\u001b[39;00m AutoReconnect(\u001b[39m\"\u001b[39m\u001b[39mserver \u001b[39m\u001b[39m%s\u001b[39;00m\u001b[39m:\u001b[39m\u001b[39m%s\u001b[39;00m\u001b[39m no longer available\u001b[39m\u001b[39m\"\u001b[39m \u001b[39m%\u001b[39m address)\n\u001b[0;32m   1296\u001b[0m     \u001b[39melse\u001b[39;00m:\n\u001b[1;32m-> 1297\u001b[0m         server \u001b[39m=\u001b[39m topology\u001b[39m.\u001b[39;49mselect_server(server_selector)\n\u001b[0;32m   1298\u001b[0m     \u001b[39mreturn\u001b[39;00m server\n\u001b[0;32m   1299\u001b[0m \u001b[39mexcept\u001b[39;00m PyMongoError \u001b[39mas\u001b[39;00m exc:\n\u001b[0;32m   1300\u001b[0m     \u001b[39m# Server selection errors in a transaction are transient.\u001b[39;00m\n",
      "File \u001b[1;32mc:\\Users\\Tye Smith\\AppData\\Local\\Programs\\Python\\Python311\\Lib\\site-packages\\pymongo\\topology.py:312\u001b[0m, in \u001b[0;36mTopology.select_server\u001b[1;34m(self, selector, server_selection_timeout, address)\u001b[0m\n\u001b[0;32m    305\u001b[0m \u001b[39mdef\u001b[39;00m \u001b[39mselect_server\u001b[39m(\n\u001b[0;32m    306\u001b[0m     \u001b[39mself\u001b[39m,\n\u001b[0;32m    307\u001b[0m     selector: Callable[[Selection], Selection],\n\u001b[0;32m    308\u001b[0m     server_selection_timeout: Optional[\u001b[39mfloat\u001b[39m] \u001b[39m=\u001b[39m \u001b[39mNone\u001b[39;00m,\n\u001b[0;32m    309\u001b[0m     address: Optional[_Address] \u001b[39m=\u001b[39m \u001b[39mNone\u001b[39;00m,\n\u001b[0;32m    310\u001b[0m ) \u001b[39m-\u001b[39m\u001b[39m>\u001b[39m Server:\n\u001b[0;32m    311\u001b[0m \u001b[39m    \u001b[39m\u001b[39m\"\"\"Like select_servers, but choose a random server if several match.\"\"\"\u001b[39;00m\n\u001b[1;32m--> 312\u001b[0m     server \u001b[39m=\u001b[39m \u001b[39mself\u001b[39;49m\u001b[39m.\u001b[39;49m_select_server(selector, server_selection_timeout, address)\n\u001b[0;32m    313\u001b[0m     \u001b[39mif\u001b[39;00m _csot\u001b[39m.\u001b[39mget_timeout():\n\u001b[0;32m    314\u001b[0m         _csot\u001b[39m.\u001b[39mset_rtt(server\u001b[39m.\u001b[39mdescription\u001b[39m.\u001b[39mmin_round_trip_time)\n",
      "File \u001b[1;32mc:\\Users\\Tye Smith\\AppData\\Local\\Programs\\Python\\Python311\\Lib\\site-packages\\pymongo\\topology.py:296\u001b[0m, in \u001b[0;36mTopology._select_server\u001b[1;34m(self, selector, server_selection_timeout, address)\u001b[0m\n\u001b[0;32m    290\u001b[0m \u001b[39mdef\u001b[39;00m \u001b[39m_select_server\u001b[39m(\n\u001b[0;32m    291\u001b[0m     \u001b[39mself\u001b[39m,\n\u001b[0;32m    292\u001b[0m     selector: Callable[[Selection], Selection],\n\u001b[0;32m    293\u001b[0m     server_selection_timeout: Optional[\u001b[39mfloat\u001b[39m] \u001b[39m=\u001b[39m \u001b[39mNone\u001b[39;00m,\n\u001b[0;32m    294\u001b[0m     address: Optional[_Address] \u001b[39m=\u001b[39m \u001b[39mNone\u001b[39;00m,\n\u001b[0;32m    295\u001b[0m ) \u001b[39m-\u001b[39m\u001b[39m>\u001b[39m Server:\n\u001b[1;32m--> 296\u001b[0m     servers \u001b[39m=\u001b[39m \u001b[39mself\u001b[39;49m\u001b[39m.\u001b[39;49mselect_servers(selector, server_selection_timeout, address)\n\u001b[0;32m    297\u001b[0m     \u001b[39mif\u001b[39;00m \u001b[39mlen\u001b[39m(servers) \u001b[39m==\u001b[39m \u001b[39m1\u001b[39m:\n\u001b[0;32m    298\u001b[0m         \u001b[39mreturn\u001b[39;00m servers[\u001b[39m0\u001b[39m]\n",
      "File \u001b[1;32mc:\\Users\\Tye Smith\\AppData\\Local\\Programs\\Python\\Python311\\Lib\\site-packages\\pymongo\\topology.py:247\u001b[0m, in \u001b[0;36mTopology.select_servers\u001b[1;34m(self, selector, server_selection_timeout, address)\u001b[0m\n\u001b[0;32m    244\u001b[0m     server_timeout \u001b[39m=\u001b[39m server_selection_timeout\n\u001b[0;32m    246\u001b[0m \u001b[39mwith\u001b[39;00m \u001b[39mself\u001b[39m\u001b[39m.\u001b[39m_lock:\n\u001b[1;32m--> 247\u001b[0m     server_descriptions \u001b[39m=\u001b[39m \u001b[39mself\u001b[39;49m\u001b[39m.\u001b[39;49m_select_servers_loop(selector, server_timeout, address)\n\u001b[0;32m    249\u001b[0m     \u001b[39mreturn\u001b[39;00m [\n\u001b[0;32m    250\u001b[0m         cast(Server, \u001b[39mself\u001b[39m\u001b[39m.\u001b[39mget_server_by_address(sd\u001b[39m.\u001b[39maddress)) \u001b[39mfor\u001b[39;00m sd \u001b[39min\u001b[39;00m server_descriptions\n\u001b[0;32m    251\u001b[0m     ]\n",
      "File \u001b[1;32mc:\\Users\\Tye Smith\\AppData\\Local\\Programs\\Python\\Python311\\Lib\\site-packages\\pymongo\\topology.py:269\u001b[0m, in \u001b[0;36mTopology._select_servers_loop\u001b[1;34m(self, selector, timeout, address)\u001b[0m\n\u001b[0;32m    266\u001b[0m \u001b[39mwhile\u001b[39;00m \u001b[39mnot\u001b[39;00m server_descriptions:\n\u001b[0;32m    267\u001b[0m     \u001b[39m# No suitable servers.\u001b[39;00m\n\u001b[0;32m    268\u001b[0m     \u001b[39mif\u001b[39;00m timeout \u001b[39m==\u001b[39m \u001b[39m0\u001b[39m \u001b[39mor\u001b[39;00m now \u001b[39m>\u001b[39m end_time:\n\u001b[1;32m--> 269\u001b[0m         \u001b[39mraise\u001b[39;00m ServerSelectionTimeoutError(\n\u001b[0;32m    270\u001b[0m             \u001b[39mf\u001b[39m\u001b[39m\"\u001b[39m\u001b[39m{\u001b[39;00m\u001b[39mself\u001b[39m\u001b[39m.\u001b[39m_error_message(selector)\u001b[39m}\u001b[39;00m\u001b[39m, Timeout: \u001b[39m\u001b[39m{\u001b[39;00mtimeout\u001b[39m}\u001b[39;00m\u001b[39ms, Topology Description: \u001b[39m\u001b[39m{\u001b[39;00m\u001b[39mself\u001b[39m\u001b[39m.\u001b[39mdescription\u001b[39m!r}\u001b[39;00m\u001b[39m\"\u001b[39m\n\u001b[0;32m    271\u001b[0m         )\n\u001b[0;32m    273\u001b[0m     \u001b[39mself\u001b[39m\u001b[39m.\u001b[39m_ensure_opened()\n\u001b[0;32m    274\u001b[0m     \u001b[39mself\u001b[39m\u001b[39m.\u001b[39m_request_check_all()\n",
      "\u001b[1;31mServerSelectionTimeoutError\u001b[0m: localhost:27017: [WinError 10061] No connection could be made because the target machine actively refused it, Timeout: 30s, Topology Description: <TopologyDescription id: 64ee9a53c3435e18c5fcebde, topology_type: Unknown, servers: [<ServerDescription ('localhost', 27017) server_type: Unknown, rtt: None, error=AutoReconnect('localhost:27017: [WinError 10061] No connection could be made because the target machine actively refused it')>]>"
     ]
    }
   ],
   "source": [
    "# review the collections in our database\n",
    "print(db.list_collection_names())"
   ]
  },
  {
   "cell_type": "code",
   "execution_count": null,
   "id": "11c9f11b",
   "metadata": {},
   "outputs": [],
   "source": [
    "# assign the collection to a variable\n",
    "establishments = db['establishments']"
   ]
  },
  {
   "cell_type": "markdown",
   "id": "d5671434",
   "metadata": {},
   "source": [
    "## Part 3: Exploratory Analysis\n",
    "Unless otherwise stated, for each question: \n",
    "* Use `count_documents` to display the number of documents contained in the result.\n",
    "* Display the first document in the results using `pprint`.\n",
    "* Convert the result to a Pandas DataFrame, print the number of rows in the DataFrame, and display the first 10 rows."
   ]
  },
  {
   "cell_type": "markdown",
   "id": "314bd884",
   "metadata": {},
   "source": [
    "### 1. Which establishments have a hygiene score equal to 20?"
   ]
  },
  {
   "cell_type": "code",
   "execution_count": null,
   "id": "37f29de9",
   "metadata": {},
   "outputs": [],
   "source": [
    "#  view the first document\n",
    "establishments.find_one()"
   ]
  },
  {
   "cell_type": "code",
   "execution_count": null,
   "id": "c2da7648",
   "metadata": {},
   "outputs": [],
   "source": [
    "# Find the establishments with a hygiene score of 20\n",
    "query_1 = {'scores.Hygiene': 20}\n",
    "\n",
    "query_results = establishments.find(query_1)\n",
    "# Use count_documents to display the number of documents in the result\n",
    "results_1 = establishments.count_documents(query_1)\n",
    "print(f\"There are {results_1} establishments with a 'Hygiene' score of 20.\")\n",
    "\n",
    "# Display the first document in the results using pprint\n",
    "first_document = establishments.find_one(query_1)\n",
    "pprint(first_document)\n",
    "\n"
   ]
  },
  {
   "cell_type": "code",
   "execution_count": null,
   "id": "a6e5cece",
   "metadata": {},
   "outputs": [],
   "source": [
    "# Convert the result to a Pandas DataFrame\n",
    "hygiene_df = pd.DataFrame(establishments.find(query_1))\n",
    "\n",
    "# Display the number of rows in the DataFrame\n",
    "count_of_hygiene_df = len(hygiene_df)\n",
    "print(f\"There are {count_of_hygiene_df} rows within this Hygiene Dataframe\")\n",
    "\n",
    "# Display the first 10 rows of the DataFrame\n",
    "hygiene_df.head(10)"
   ]
  },
  {
   "cell_type": "markdown",
   "id": "0ef4395a",
   "metadata": {},
   "source": [
    "### 2. Which establishments in London have a `RatingValue` greater than or equal to 4?"
   ]
  },
  {
   "cell_type": "code",
   "execution_count": null,
   "id": "93c63829",
   "metadata": {},
   "outputs": [],
   "source": [
    "# Find the establishments with London as the Local Authority and has a RatingValue greater than or equal to 4.\n",
    "query_2 = {'LocalAuthorityName': {'$regex': \"London\"},\"RatingValue\":{'$gte': 4}}\n",
    "\n",
    "# Use count_documents to display the number of documents in the result\n",
    "results_2 = establishments.count_documents(query_2)\n",
    "\n",
    "print(f\"There are {results_2} establishments with a 'RatingValue' score of 4 or above.\")\n",
    "\n",
    "\n",
    "# Display the first document in the results using pprint\n",
    "first_document = establishments.find_one(query_2)\n",
    "pprint(first_document)\n",
    "\n"
   ]
  },
  {
   "cell_type": "code",
   "execution_count": null,
   "id": "07e24ccb",
   "metadata": {},
   "outputs": [],
   "source": [
    "# Convert the result to a Pandas DataFrame\n",
    "rating_df = pd.DataFrame(establishments.find(query_2))\n",
    "\n",
    "# Display the number of rows in the DataFrame\n",
    "count_of_rating_df = len(rating_df)\n",
    "print(f\"There are {count_of_rating_df} rows within this Hygiene Dataframe\")\n",
    "\n",
    "# Display the first 10 rows of the DataFrame\n",
    "rating_df.head(10)"
   ]
  },
  {
   "attachments": {},
   "cell_type": "markdown",
   "id": "4e570caf",
   "metadata": {},
   "source": [
    "### 3. What are the top 5 establishments with a `RatingValue` rating value of 5, sorted by lowest hygiene score, nearest to the new restaurant added, \"Penang Flavours\"?"
   ]
  },
  {
   "cell_type": "code",
   "execution_count": null,
   "id": "1c52ea76",
   "metadata": {},
   "outputs": [],
   "source": [
    "# get latitude and longitude for Penang Flavours\n",
    "query = {'BusinessName': 'Penang Flavours'}\n",
    "fields = {'geocode': 1}\n",
    "\n",
    "pprint(establishments.find_one(query, fields))"
   ]
  },
  {
   "cell_type": "code",
   "execution_count": null,
   "id": "7f599f3d",
   "metadata": {},
   "outputs": [],
   "source": [
    "# Search within 0.01 degree on either side of the latitude and longitude.\n",
    "# Rating value must equal 5\n",
    "# Sort by hygiene score\n",
    "degree_search = 0.01\n",
    "latitude = 51.49014200\n",
    "longitude = 0.08384000\n",
    "\n",
    "query_3 = {\n",
    "    \"RatingValue\": 5,\n",
    "    'geocode.latitude': {\n",
    "        '$lte': latitude + degree_search,\n",
    "        '$gte': latitude - degree_search\n",
    "    },\n",
    "    'geocode.longitude': {\n",
    "        '$lte': longitude + degree_search,\n",
    "        '$gte': longitude - degree_search\n",
    "    }\n",
    "}\n",
    "\n",
    "#Sort by hygiene score\n",
    "sort = [('scores.Hygiene', 1)]\n",
    "\n",
    "# Print the results\n",
    "results_Q3 = list(establishments.find(query_3).sort(sort))\n",
    "\n",
    "pprint(results_Q3)\n"
   ]
  },
  {
   "cell_type": "code",
   "execution_count": null,
   "id": "a6ad16f7",
   "metadata": {},
   "outputs": [],
   "source": [
    "# Convert result to Pandas DataFrame\n",
    "top5_penang_flavours_df = pd.DataFrame(results_Q3)\n",
    "top5_penang_flavours_df\n"
   ]
  },
  {
   "cell_type": "markdown",
   "id": "67281254",
   "metadata": {},
   "source": [
    "### 4. How many establishments in each Local Authority area have a hygiene score of 0?"
   ]
  },
  {
   "cell_type": "code",
   "execution_count": null,
   "id": "4eeb227e",
   "metadata": {},
   "outputs": [],
   "source": [
    "\n",
    "\n",
    "# Create a pipeline that: \n",
    "# 1. Matches establishments with a hygiene score of 0\n",
    "# 2. Groups the matches by Local Authority\n",
    "# 3. Sorts the matches from highest to lowest\n",
    "\n",
    "# Create match query\n",
    "match_query = {\"$match\": {'scores.Hygiene': 0}}\n",
    "\n",
    "# Grouped by \"Local Authority\"\n",
    "group_query = {'$group': {'_id': '$LocalAuthorityName', 'count': {'$sum': 1}}}\n",
    "\n",
    "# Then sort in decending order\n",
    "sort_values = {'$sort': {'count': -1}}\n",
    "\n",
    "# Create 'pipeline' function\n",
    "pipeline = [match_query, group_query, sort_values]\n",
    "\n",
    "# Print the number of documents in the result\n",
    "results_Q4 = list(establishments.aggregate(pipeline))\n",
    "print(f\"Number of documents in result: {len(results_Q4)}\")\n",
    "\n",
    "# Print the first 10 results\n",
    "pprint(results_Q4[0:10])\n",
    "    \n",
    "\n"
   ]
  },
  {
   "cell_type": "code",
   "execution_count": null,
   "id": "d8aab364",
   "metadata": {},
   "outputs": [],
   "source": [
    "\n",
    "# Convert the result to a Pandas DataFrame\n",
    "Q4_df = pd.DataFrame(results_Q4)\n",
    "\n",
    "# Display the number of rows in the DataFrame\n",
    "print(f\"There are {len(Q4_df)} rows within this Local Authority count DataFrame\")\n",
    "\n",
    "# Display the first 10 rows of the DataFrame\n",
    "Q4_df.head(10)\n",
    "\n"
   ]
  }
 ],
 "metadata": {
  "kernelspec": {
   "display_name": "Python 3 (ipykernel)",
   "language": "python",
   "name": "python3"
  },
  "language_info": {
   "codemirror_mode": {
    "name": "ipython",
    "version": 3
   },
   "file_extension": ".py",
   "mimetype": "text/x-python",
   "name": "python",
   "nbconvert_exporter": "python",
   "pygments_lexer": "ipython3",
   "version": "3.11.2"
  }
 },
 "nbformat": 4,
 "nbformat_minor": 5
}
